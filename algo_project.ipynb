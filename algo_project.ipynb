{
  "nbformat": 4,
  "nbformat_minor": 0,
  "metadata": {
    "colab": {
      "provenance": [],
      "authorship_tag": "ABX9TyPF5leUQJEhLbjgP5GAVxTP",
      "include_colab_link": true
    },
    "kernelspec": {
      "name": "python3",
      "display_name": "Python 3"
    },
    "language_info": {
      "name": "python"
    }
  },
  "cells": [
    {
      "cell_type": "markdown",
      "metadata": {
        "id": "view-in-github",
        "colab_type": "text"
      },
      "source": [
        "<a href=\"https://colab.research.google.com/github/KIRRAA0/Distribution-Counting-Sort/blob/main/algo_project.ipynb\" target=\"_parent\"><img src=\"https://colab.research.google.com/assets/colab-badge.svg\" alt=\"Open In Colab\"/></a>"
      ]
    },
    {
      "cell_type": "code",
      "source": [
        "def distribution_counting_sort_upper(arr, u):\n",
        "    n = len(arr)\n",
        "    Distribution_arr = [0] * (u + 1)\n",
        "    Sorted_array = [0] * n\n",
        "\n",
        "    # Compute frequencies and store it in Distribution_arr\n",
        "    for i in range(n):\n",
        "        Distribution_arr[arr[i]] += 1\n",
        "\n",
        "    # produce the cumulative sum\n",
        "    for j in range(1, u + 1):\n",
        "        Distribution_arr[j] += Distribution_arr[j - 1]\n",
        "\n",
        "    # Sort the array\n",
        "    for i in range(n - 1, -1, -1):\n",
        "        j = arr[i]\n",
        "        Sorted_array[Distribution_arr[j] - 1] = j\n",
        "        Distribution_arr[j] -= 1\n",
        "\n",
        "    return Sorted_array"
      ],
      "metadata": {
        "id": "8YarZsMWdsfo"
      },
      "execution_count": 21,
      "outputs": []
    },
    {
      "cell_type": "code",
      "execution_count": 22,
      "metadata": {
        "colab": {
          "base_uri": "https://localhost:8080/"
        },
        "id": "APM4ys22de00",
        "outputId": "a308bc55-a6d3-49bb-bb59-6ae3e4d58919"
      },
      "outputs": [
        {
          "output_type": "stream",
          "name": "stdout",
          "text": [
            "[1, 3, 3, 3, 4, 5, 6, 8, 8]\n"
          ]
        }
      ],
      "source": [
        "arr = [8,3,5,1,3,8,6,4,3]\n",
        "upper_bound = max(arr)\n",
        "sorted_array = distribution_counting_sort_upper(arr, upper_bound)\n",
        "print(sorted_array)\n"
      ]
    }
  ]
}